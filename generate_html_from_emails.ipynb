{
 "cells": [
  {
   "cell_type": "code",
   "execution_count": 1,
   "metadata": {},
   "outputs": [
    {
     "name": "stdout",
     "output_type": "stream",
     "text": [
      "2023-07-30\n"
     ]
    }
   ],
   "source": [
    "import imaplib\n",
    "import email\n",
    "import pandas as pd\n",
    "from bs4 import BeautifulSoup\n",
    "# import re\n",
    "\n",
    "from IPython.display import display, HTML\n",
    "import time\n",
    "\n",
    "# Get the current date as a string\n",
    "DATE = time.strftime('%Y-%m-%d', time.localtime())\n",
    "print(DATE)"
   ]
  },
  {
   "cell_type": "code",
   "execution_count": 2,
   "metadata": {},
   "outputs": [
    {
     "name": "stdout",
     "output_type": "stream",
     "text": [
      "Skipping email not in from_allow_list, From: Google Community Team <googlecommunityteam-noreply@google.com>\n",
      "Skipping email not in from_allow_list, From: Jake G <omonoid@gmail.com>\n",
      "Skipping email not in from_allow_list, From: \"Redfin\" <donotreply@redfin.com>\n",
      "Skipping email not in from_allow_list, From: \"Zillow\" <no-reply@confirmation.zillow.com>\n",
      "Skipping email not in from_allow_list, From: \"Zillow\" <reply@mail.zillow.com>\n",
      "Skipping email not in from_allow_list, From: \"Zillow\" <reply@mail.zillow.com>\n",
      "Skipping email not in from_allow_list, From: Google <no-reply@accounts.google.com>\n",
      "Skipping email not in from_allow_list, From: The Google Account Team <google-noreply@google.com>\n",
      "Skipping email not in from_allow_list, From: \"Zillow\" <no-reply@mail.zillow.com>\n",
      "Skipping email not in from_allow_list, From: The Google Account Team <google-noreply@google.com>\n",
      "Skipping email not in from_allow_list, From: Google <no-reply@accounts.google.com>\n",
      "Skipping email not in from_allow_list, From: The Google Account Team <google-noreply@google.com>\n",
      "Skipping email not in from_allow_list, From: \"Zillow\" <no-reply@confirmation.zillow.com>\n",
      "Skipping email not in from_allow_list, From: Google <no-reply@accounts.google.com>\n",
      "Skipping email not in from_allow_list, From: Google <no-reply@accounts.google.com>\n",
      "Skipping email not in from_allow_list, From: Google <no-reply@accounts.google.com>\n",
      "Skipping email not in from_allow_list, From: Google Accounts Team <no-reply@accounts.google.com>\n",
      "Fetched 618 gmail messages to seattle.housing.feed@gmail.com\n",
      "CPU times: user 6.94 s, sys: 720 ms, total: 7.66 s\n",
      "Wall time: 2min 4s\n"
     ]
    }
   ],
   "source": [
    "\n",
    "%%time\n",
    "def fetch_email_messages(username, password, from_allow_list, to_allow_list):\n",
    "    # Connect to the Gmail IMAP server\n",
    "    mail = imaplib.IMAP4_SSL(\"imap.gmail.com\")\n",
    "    mail.login(username, password)\n",
    "    mail.select('inbox')\n",
    "    _, data = mail.search(None, 'ALL')\n",
    "    email_messages = []\n",
    "    for num in data[0].split():\n",
    "        _, msg_data = mail.fetch(num, '(RFC822)')\n",
    "        email_message = email.message_from_bytes(msg_data[0][1])\n",
    "        if email_message['From'] not in from_allow_list:\n",
    "            print(f\"Skipping email not in from_allow_list, From: {email_message['From']}\")\n",
    "            continue\n",
    "        elif email_message['To'] not in to_allow_list:\n",
    "            print(f\"Skipping email not in to_allow_list, To: {email_message['To']}\")\n",
    "            continue\n",
    "        email_messages.append(email_message)\n",
    "    mail.logout()\n",
    "    return email_messages\n",
    "\n",
    "# Set your Gmail credentials and search query\n",
    "# https://myaccount.google.com/u/3/apppasswords\n",
    "password = \"tfdxdxszsbmkuiiy\"\n",
    "username = \"seattle.housing.feed@gmail.com\"\n",
    "from_list = [\n",
    "    '\"Zillow\" <daily-updates@mail.zillow.com>',\n",
    "    '\"Zillow\" <open-houses@mail.zillow.com>',\n",
    "    'Redfin <listings@redfin.com>',\n",
    "    '\"Redfin\" <redmail@redfin.com>'\n",
    "]\n",
    "to_list = ['seattle.housing.feed@gmail.com']\n",
    "    \n",
    "# Fetch emails and extract information\n",
    "emails_messages = fetch_email_messages(username, password, from_list, to_list)\n",
    "print(f'Fetched {len(emails_messages)} gmail messages to {username}')"
   ]
  },
  {
   "cell_type": "code",
   "execution_count": 4,
   "metadata": {},
   "outputs": [
    {
     "name": "stdout",
     "output_type": "stream",
     "text": [
      "Parsed 618 gmail messages to seattle.housing.feed@gmail.com\n",
      "CPU times: user 16.4 s, sys: 708 ms, total: 17.1 s\n",
      "Wall time: 17.2 s\n"
     ]
    }
   ],
   "source": [
    "%%time\n",
    "def parse_email_message(email_message):\n",
    "    email_res = {k:email_message[k] for k in ['Subject', 'To', 'From', 'Date']}\n",
    "    from_name, from_email =  email_res['From'].split(' <')\n",
    "    email_res['Sender'] = from_name.replace('\"', '').strip()\n",
    "    email_res['From'] = from_email.replace('>', '').strip()\n",
    "    content = ''\n",
    "    if email_message.is_multipart():\n",
    "        for part in email_message.walk():\n",
    "            content_type = part.get_content_type()\n",
    "            if content_type == 'text/plain' or content_type == 'text/html':\n",
    "                content += part.get_payload(decode=True).decode('UTF-8')\n",
    "    else:\n",
    "        content_type = email_message.get_content_type()\n",
    "        if content_type == 'text/plain' or content_type == 'text/html':\n",
    "            email_res['Content'] = email_message.get_payload(decode=True).decode('UTF-8')\n",
    "    # email_res['Content'] = content\n",
    "    bs4 = BeautifulSoup(content, 'html.parser')\n",
    "\n",
    "    # Find all script tags and remove\n",
    "    script_tags = bs4.find_all('script')\n",
    "    for script_tag in script_tags:\n",
    "        script_tag.decompose()\n",
    "    # Find all the style tags and remove\n",
    "    style_tags = bs4.find_all('style')\n",
    "    for style_tag in style_tags:\n",
    "        style_tag.extract()\n",
    "    \n",
    "    elements_to_remove = []\n",
    "    if email_res['From'] == 'listings@redfin.com':\n",
    "        elements_to_remove += bs4.find_all(class_='footer-layout-wrapper')\n",
    "    elif email_res['From'] == 'redmail@redfin.com':\n",
    "        elements_to_remove += bs4.find_all(class_='footer')\n",
    "    elif (email_res['From'] == 'daily-updates@mail.zillow.com' or  \n",
    "          email_res['From'] == 'open-houses@mail.zillow.com'):\n",
    "        elements_to_remove = bs4.find_all('address')\n",
    "        elements_to_remove += bs4.find_all(class_='dmTxtLinkSecondary')\n",
    "    #     elements_to_remove = bs4.find_all(class_=lambda value: value and value.startswith('width100'))\n",
    "    for element in elements_to_remove:\n",
    "        element.extract()\n",
    "        \n",
    "    email_res['html'] = str(bs4.html)\n",
    "    email_res['bs4'] = bs4    \n",
    "    return email_res\n",
    "\n",
    "emails = pd.DataFrame([parse_email_message(e) for e in emails_messages ])\n",
    "emails['Date'] = pd.to_datetime(emails['Date'], format='%a, %d %b %Y %H:%M:%S %z')\n",
    "emails['title'] = '<p style=\"text-align:center;\">'+\"<b>\"+emails['Date'].astype(str)+\"  :  \"+emails['From']+\"</b></p>\"\n",
    "emails['html'] = emails['title'] + emails['html']\n",
    "emails = emails.sort_values('Date', ascending=False)\n",
    "\n",
    "print(f'Parsed {len(emails)} gmail messages to {username}')\n",
    "# display(pd.DataFrame(emails['From'].value_counts()))\n"
   ]
  },
  {
   "cell_type": "code",
   "execution_count": 5,
   "metadata": {},
   "outputs": [
    {
     "name": "stdout",
     "output_type": "stream",
     "text": [
      "CPU times: user 57.1 ms, sys: 79.9 ms, total: 137 ms\n",
      "Wall time: 148 ms\n"
     ]
    }
   ],
   "source": [
    "%%time\n",
    "header = \"\"\"\n",
    "<head>\n",
    "  <title>Seattle Housing Inbox</title>\n",
    "  <style>\n",
    "      /* Styles for desktop */\n",
    "      body {\n",
    "          zoom: 150%;\n",
    "          margin: 50px;\n",
    "      }\n",
    "\n",
    "      img {\n",
    "          max-width: 100%;\n",
    "          height: auto;\n",
    "      }\n",
    "\n",
    "      /* Styles for mobile */\n",
    "      @media screen and (max-width: 600px) {\n",
    "          body {\n",
    "              zoom: 90%;\n",
    "              margin: 5px;\n",
    "          }\n",
    "      }\n",
    "  </style>\n",
    "</head>\n",
    "\"\"\"\n",
    "html_file = 'index.html'\n",
    "with open(html_file, 'w') as file:\n",
    "  file.write(header + emails['html'].str.cat(sep='\\n'))"
   ]
  },
  {
   "cell_type": "code",
   "execution_count": null,
   "metadata": {},
   "outputs": [],
   "source": [
    "# import pdfkit\n",
    "# pdf_file = html_file.replace('.html', '.pdf')\n",
    "# pdfkit.from_file(html_file, pdf_file) #, options={'quiet': '', 'lowquality': ''}\n",
    "# print(\"PDF file created:\", pdf_file)"
   ]
  }
 ],
 "metadata": {
  "kernelspec": {
   "display_name": "Python 3",
   "language": "python",
   "name": "python3"
  },
  "language_info": {
   "codemirror_mode": {
    "name": "ipython",
    "version": 3
   },
   "file_extension": ".py",
   "mimetype": "text/x-python",
   "name": "python",
   "nbconvert_exporter": "python",
   "pygments_lexer": "ipython3",
   "version": "3.11.3"
  },
  "orig_nbformat": 4
 },
 "nbformat": 4,
 "nbformat_minor": 2
}
